{
 "cells": [
  {
   "cell_type": "markdown",
   "metadata": {},
   "source": [
    "# Code used to generate physical fields"
   ]
  },
  {
   "cell_type": "code",
   "execution_count": null,
   "metadata": {},
   "outputs": [],
   "source": [
    "import numpy as np\n",
    "from solidspy import solids_GUI\n",
    "import matplotlib.pyplot as plt"
   ]
  },
  {
   "cell_type": "code",
   "execution_count": null,
   "metadata": {},
   "outputs": [],
   "source": [
    "size = 64\n",
    "#Number of samples for which to generate physical fields\n",
    "num_samples = 10"
   ]
  },
  {
   "cell_type": "code",
   "execution_count": null,
   "metadata": {},
   "outputs": [],
   "source": [
    "#Loading of file containing samples information\n",
    "dict_array = np.load(f\"./test_data_level_2_summary.npy\", allow_pickle = True, encoding = 'latin1') #.npy filename can be replaced by any file containing samples information in the right format - e.g., all XXX_summary.npy files in dataset"
   ]
  },
  {
   "cell_type": "code",
   "execution_count": null,
   "metadata": {
    "tags": []
   },
   "outputs": [],
   "source": [
    "for i in range(dict_array.size):\n",
    "    load_nodes_i = np.empty(dict_array[i]['load_coord'].shape[0])\n",
    "    for j,coord in enumerate(dict_array[i]['load_coord']):\n",
    "        node = int(round(64*coord[0])*65+round(64*(1.0 - coord[1])))\n",
    "        if node < 0:\n",
    "            node = 0\n",
    "        load_nodes_i[j] = node + 1\n",
    "    dict_array[i]['load_nodes'] = load_nodes_i.astype(int)"
   ]
  },
  {
   "cell_type": "code",
   "execution_count": null,
   "metadata": {
    "tags": []
   },
   "outputs": [],
   "source": [
    "def create_files(BC_conf, load_position, load_x_value, load_y_value, directory):\n",
    "    # nodes.txt file\n",
    "    # Boundary conditions of nodes\n",
    "    BC_node = np.zeros(((size+1)**2, 2))\n",
    "    for elem in BC_conf:\n",
    "        list_nodes = elem[0]\n",
    "        type_bc = elem[1]\n",
    "        for n in list_nodes:\n",
    "            if type_bc == 1 or type_bc == 3:\n",
    "                BC_node[n-1, 0] = -1\n",
    "            if type_bc == 2 or type_bc == 3:\n",
    "                BC_node[n-1, 1] = -1\n",
    "    # Creating the file\n",
    "    f = open(f\"{directory}/nodes.txt\", \"w\")\n",
    "    for node in range(1, (size+1)**2 + 1):\n",
    "    # Coordinates of nodes\n",
    "        x = node//(size+1)\n",
    "        r = node % (size+1)\n",
    "        if r != 0:\n",
    "            y = (size+1) - r\n",
    "        else:\n",
    "            x -= 1\n",
    "            y = 0\n",
    "\n",
    "        f.write(f\"{node - 1}  {x:.2f}  {y:.2f}  {BC_node[node-1,0]:.0f}  {BC_node[node-1,1]:.0f}\" + \"\\n\")\n",
    "    f.close()\n",
    "    \n",
    "    # eles.txt file\n",
    "    f = open(f\"{directory}/eles.txt\", \"w\")\n",
    "    num_elem = 0\n",
    "    for node in range(1, (size+1)**2 + 1):\n",
    "        if node % (size+1) != 0 and node < (size+1)**2-size:\n",
    "            f.write(f\"{num_elem}  1  0  {node - 1}  {node - 1 + 1}  {node - 1 + (size+2)}  {node - 1 + (size+1)}\" + \"\\n\")\n",
    "            num_elem += 1\n",
    "    f.close()\n",
    "    \n",
    "    # mater.txt file\n",
    "    f = open(f\"{directory}/mater.txt\", \"w\")\n",
    "    f.write(\"1.0  0.3\")\n",
    "    f.close()\n",
    "    \n",
    "    # loads.txt file\n",
    "    f = open(f\"{directory}/loads.txt\", \"w\")\n",
    "    for i, pos in enumerate(load_position):\n",
    "        f.write(f\"{pos - 1}  {load_x_value[i]:.1f}  {load_y_value[i]:.1f}\" + \"\\n\")\n",
    "    f.close()"
   ]
  },
  {
   "cell_type": "code",
   "execution_count": null,
   "metadata": {},
   "outputs": [],
   "source": [
    "def resize(arr):\n",
    "    res = np.empty((64,64))\n",
    "    for i in range(64):\n",
    "        for j in range(64):\n",
    "            res[i,j] = arr[i,j]+arr[i+1,j]+arr[i,j+1]+arr[i+1,j+1]\n",
    "    return res*0.25"
   ]
  },
  {
   "cell_type": "code",
   "execution_count": null,
   "metadata": {
    "scrolled": true
   },
   "outputs": [],
   "source": [
    "for i in range(num_samples):\n",
    "    vf = dict_array[i]['VF']\n",
    "    vf_arr = vf * np.ones((64, 64))\n",
    "    \n",
    "    BC_conf = dict_array[i]['BC_conf']\n",
    "    load_position = dict_array[i]['load_nodes']\n",
    "    load_x_value = dict_array[i]['x_loads']\n",
    "    load_y_value = dict_array[i]['y_loads']\n",
    "    \n",
    "    create_files(BC_conf, load_position, load_x_value, load_y_value, \"./\")\n",
    "    disp, strain, stress = solids_GUI(plot_contours = False, compute_strains=True, folder=\"./\")\n",
    "    stress = stress.reshape((65,65,3)).swapaxes(0,1)\n",
    "    print(stress.shape)\n",
    "    strain = strain.reshape((65,65,3)).swapaxes(0,1)\n",
    "    stress = stress.transpose([2,0,1])\n",
    "    strain = strain.transpose([2,0,1])\n",
    "    \n",
    "    strain_energy_density = 0.5*(stress[0]*strain[0]+stress[1]*strain[1]+2*stress[2]*strain[2])\n",
    "    von_mises_stress = np.sqrt(np.power(stress[0],2)-stress[0]*stress[1]+np.power(stress[1],2)+3*np.power(stress[2],2))\n",
    "    \n",
    "    res = np.transpose(np.stack([vf_arr, resize(strain_energy_density), resize(von_mises_stress)]), [1,2,0])\n",
    "    print(f\"{i+1} physical fields computed\")\n",
    "    np.save(f\"./cons_pf_array_{i}.npy\", res)"
   ]
  }
 ],
 "metadata": {
  "kernelspec": {
   "display_name": "Python 3 (ipykernel)",
   "language": "python",
   "name": "python3"
  },
  "language_info": {
   "codemirror_mode": {
    "name": "ipython",
    "version": 3
   },
   "file_extension": ".py",
   "mimetype": "text/x-python",
   "name": "python",
   "nbconvert_exporter": "python",
   "pygments_lexer": "ipython3",
   "version": "3.10.7"
  }
 },
 "nbformat": 4,
 "nbformat_minor": 4
}
