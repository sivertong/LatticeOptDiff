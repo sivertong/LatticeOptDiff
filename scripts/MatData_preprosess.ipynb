{
 "cells": [
  {
   "cell_type": "markdown",
   "id": "e36de3f7",
   "metadata": {},
   "source": [
    "This notebook preprocess the dataset, 将mat文件转换为npy文件"
   ]
  },
  {
   "cell_type": "code",
   "execution_count": 1,
   "id": "68392f0f",
   "metadata": {
    "ExecuteTime": {
     "start_time": "2024-01-21T19:02:11.401381Z",
     "end_time": "2024-01-21T19:02:12.637217Z"
    }
   },
   "outputs": [],
   "source": [
    "import numpy as np\n",
    "import scipy.io as sio\n",
    "import os"
   ]
  },
  {
   "cell_type": "code",
   "execution_count": 5,
   "id": "c3e0c148",
   "metadata": {
    "ExecuteTime": {
     "start_time": "2024-01-21T19:04:55.485222Z",
     "end_time": "2024-01-21T19:04:55.518671Z"
    }
   },
   "outputs": [],
   "source": [
    "MaData = sio.loadmat('C:\\\\Users\\\\long\\\\Documents\\\\GitHub\\\\homogenization\\\\CellularDataset10000\\\\Dataset10000\\\\Dataset10000.mat')\n",
    "Input = MaData['HomoData']\n",
    "Input = Input[0:,:]\n",
    "np.save('Input',Input)"
   ]
  },
  {
   "cell_type": "code",
   "execution_count": 3,
   "id": "b7cc970d-53e1-4ba1-b2ba-60e554a70717",
   "metadata": {},
   "outputs": [],
   "source": [
    "Output = MaData['StructurePara']\n",
    "Output = Output[0:,:]\n",
    "np.save('Output',Output)"
   ]
  },
  {
   "cell_type": "code",
   "execution_count": 5,
   "id": "cddf045d-d2d5-4272-9fe3-a504cc49c1e0",
   "metadata": {},
   "outputs": [
    {
     "name": "stdout",
     "output_type": "stream",
     "text": [
      "9995\n"
     ]
    }
   ],
   "source": [
    "print(np.size(Input,0))"
   ]
  },
  {
   "cell_type": "code",
   "execution_count": 22,
   "id": "fa9543c3-248b-4138-a833-106d23793c81",
   "metadata": {},
   "outputs": [
    {
     "name": "stdout",
     "output_type": "stream",
     "text": [
      "YES\n"
     ]
    }
   ],
   "source": [
    "MixCellDiffData = np.load('D:\\\\CodeSave\\\\GitCode\\\\topodiff\\\\scripts\\\\generated\\\\samples_300x11x1.npz')\n",
    "print('YES')\n",
    "sio.savemat('D:\\\\CodeSave\\\\GitCode\\\\topodiff\\\\scripts\\\\generated\\\\Diff2MixCell.mat', MixCellDiffData)"
   ]
  },
  {
   "cell_type": "code",
   "execution_count": 9,
   "id": "c6685f89-008a-47d5-a989-2f919162c46b",
   "metadata": {},
   "outputs": [
    {
     "name": "stdout",
     "output_type": "stream",
     "text": [
      "True\n"
     ]
    }
   ],
   "source": [
    "file_path = 'D:\\\\CodeSave\\\\GitCode\\\\topodiff\\\\scripts\\\\generated\\\\samples_200x11x1.npz'\n",
    "print(os.path.exists(file_path))"
   ]
  },
  {
   "cell_type": "code",
   "execution_count": null,
   "id": "091ee0ca-3cbf-411d-9722-38083af66f7d",
   "metadata": {},
   "outputs": [],
   "source": []
  }
 ],
 "metadata": {
  "kernelspec": {
   "display_name": "Python (topodiff)",
   "language": "python",
   "name": "topodiff"
  },
  "language_info": {
   "codemirror_mode": {
    "name": "ipython",
    "version": 3
   },
   "file_extension": ".py",
   "mimetype": "text/x-python",
   "name": "python",
   "nbconvert_exporter": "python",
   "pygments_lexer": "ipython3",
   "version": "3.8.18"
  }
 },
 "nbformat": 4,
 "nbformat_minor": 5
}
