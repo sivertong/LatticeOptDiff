{
 "cells": [
  {
   "cell_type": "code",
   "execution_count": 2,
   "metadata": {
    "collapsed": true,
    "ExecuteTime": {
     "start_time": "2024-04-07T01:33:31.357025Z",
     "end_time": "2024-04-07T01:33:31.582965Z"
    }
   },
   "outputs": [
    {
     "name": "stdout",
     "output_type": "stream",
     "text": [
      "Vol R^2 Score: 0.9350911957101689\n"
     ]
    }
   ],
   "source": [
    "import pandas as pd\n",
    "from sklearn.metrics import r2_score\n",
    "\n",
    "# 替换为你的Excel文件路径\n",
    "excel_path = '24000泛化回归_抽取300_01reg_组合.xlsx'\n",
    "\n",
    "# 读取Excel文件\n",
    "df = pd.read_excel(excel_path)\n",
    "\n",
    "# 假设你要计算的两列分别名为'Column1'和'Column2'\n",
    "# 'Column1'为预测值，'Column2'为实际值\n",
    "predicted_values_vol = df['VolPred'][:]\n",
    "actual_values_vol = df['VolTar'][:]\n",
    "\n",
    "r2_vol = r2_score(predicted_values_vol, actual_values_vol)\n",
    "\n",
    "print(f'Vol R^2 Score: {r2_vol}')"
   ]
  }
 ],
 "metadata": {
  "kernelspec": {
   "display_name": "Python 3",
   "language": "python",
   "name": "python3"
  },
  "language_info": {
   "codemirror_mode": {
    "name": "ipython",
    "version": 2
   },
   "file_extension": ".py",
   "mimetype": "text/x-python",
   "name": "python",
   "nbconvert_exporter": "python",
   "pygments_lexer": "ipython2",
   "version": "2.7.6"
  }
 },
 "nbformat": 4,
 "nbformat_minor": 0
}
