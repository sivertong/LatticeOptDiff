{
 "cells": [
  {
   "cell_type": "code",
   "execution_count": 5,
   "metadata": {
    "collapsed": true,
    "ExecuteTime": {
     "start_time": "2024-04-11T16:55:03.794769Z",
     "end_time": "2024-04-11T16:55:03.804169Z"
    }
   },
   "outputs": [],
   "source": [
    "import pandas as pd\n",
    "from sklearn.metrics import r2_score"
   ]
  },
  {
   "cell_type": "code",
   "execution_count": 6,
   "outputs": [],
   "source": [
    "\n",
    "# 替换为你的Excel文件路径\n",
    "excel_path = \"C:\\\\Users\\long\\Desktop\\\\180000标准化泛化_DropNum_005_end.xlsx\"\n",
    "\n",
    "sheet = 'mix_GAN_5000'\n",
    "# 读取Excel文件\n",
    "# df = pd.read_excel(excel_path,sheet_name='TPMS_GAN')\n",
    "df = pd.read_excel(excel_path,sheet_name=sheet)\n"
   ],
   "metadata": {
    "collapsed": false,
    "ExecuteTime": {
     "start_time": "2024-04-11T16:55:03.805248Z",
     "end_time": "2024-04-11T16:55:03.862709Z"
    }
   }
  },
  {
   "cell_type": "code",
   "execution_count": 7,
   "outputs": [],
   "source": [
    "\n",
    "# 假设你要计算的两列分别名为'Column1'和'Column2'\n",
    "# 'Column1'为预测值，'Column2'为实际值\n",
    "predicted_values_vol = df['VolPred'][:]\n",
    "actual_values_vol = df['VolTar'][:]\n",
    "\n",
    "predicted_values_E = df['EPred'][:]\n",
    "actual_values_E = df['ETar'][:]\n",
    "\n",
    "predicted_values_Mu = df['MuPred'][:]\n",
    "actual_values_Mu = df['MuTar'][:]"
   ],
   "metadata": {
    "collapsed": false,
    "ExecuteTime": {
     "start_time": "2024-04-11T16:55:03.864711Z",
     "end_time": "2024-04-11T16:55:03.878504Z"
    }
   }
  },
  {
   "cell_type": "code",
   "execution_count": 8,
   "outputs": [
    {
     "name": "stdout",
     "output_type": "stream",
     "text": [
      "mix_GAN_5000\n",
      "Vol R^2 Score: 0.9091919610354794\n",
      "E R^2 Score: 0.8610281933274756\n",
      "Mu R^2 Score: 0.6921455732223865\n"
     ]
    }
   ],
   "source": [
    "\n",
    "# 计算R^2分数\n",
    "r2_vol = r2_score(predicted_values_vol, actual_values_vol)\n",
    "\n",
    "r2_E = r2_score(predicted_values_E, actual_values_E)\n",
    "\n",
    "r2_Mu = r2_score(predicted_values_Mu, actual_values_Mu)\n",
    "\n",
    "print(sheet)\n",
    "print(f'Vol R^2 Score: {r2_vol}')\n",
    "print(f'E R^2 Score: {r2_E}')\n",
    "print(f'Mu R^2 Score: {r2_Mu}')"
   ],
   "metadata": {
    "collapsed": false,
    "ExecuteTime": {
     "start_time": "2024-04-11T16:55:03.879506Z",
     "end_time": "2024-04-11T16:55:03.923114Z"
    }
   }
  },
  {
   "cell_type": "code",
   "execution_count": 8,
   "outputs": [],
   "source": [],
   "metadata": {
    "collapsed": false,
    "ExecuteTime": {
     "start_time": "2024-04-11T16:55:03.895565Z",
     "end_time": "2024-04-11T16:55:03.933157Z"
    }
   }
  }
 ],
 "metadata": {
  "kernelspec": {
   "name": "python3",
   "language": "python",
   "display_name": "Python 3 (ipykernel)"
  },
  "language_info": {
   "codemirror_mode": {
    "name": "ipython",
    "version": 2
   },
   "file_extension": ".py",
   "mimetype": "text/x-python",
   "name": "python",
   "nbconvert_exporter": "python",
   "pygments_lexer": "ipython2",
   "version": "2.7.6"
  }
 },
 "nbformat": 4,
 "nbformat_minor": 0
}
