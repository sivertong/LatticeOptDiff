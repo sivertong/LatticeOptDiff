{
 "cells": [
  {
   "cell_type": "code",
   "execution_count": 20,
   "metadata": {
    "collapsed": true,
    "ExecuteTime": {
     "start_time": "2024-04-06T12:17:07.546899Z",
     "end_time": "2024-04-06T12:17:07.549107Z"
    }
   },
   "outputs": [],
   "source": [
    "    from sklearn.preprocessing import StandardScaler\n",
    "    import numpy as np\n",
    "    import joblib  # 导入joblib\n",
    "\n"
   ]
  },
  {
   "cell_type": "code",
   "execution_count": 21,
   "outputs": [],
   "source": [
    "    data_structure = np.load('D:\\CodeSave\\GitCode\\IHDiff\\scripts\\Output_37437.npy') # design variables\n",
    "    data_label = np.load('D:\\CodeSave\\GitCode\\IHDiff\\scripts\\Input_37437.npy') # material properties\n",
    "\n",
    "    scaler = StandardScaler()\n",
    "    data_label = scaler.fit_transform(data_label)"
   ],
   "metadata": {
    "collapsed": false,
    "ExecuteTime": {
     "start_time": "2024-04-06T12:17:07.553104Z",
     "end_time": "2024-04-06T12:17:07.573616Z"
    }
   }
  },
  {
   "cell_type": "code",
   "execution_count": 22,
   "outputs": [
    {
     "data": {
      "text/plain": "['scaler.joblib']"
     },
     "execution_count": 22,
     "metadata": {},
     "output_type": "execute_result"
    }
   ],
   "source": [
    "    np.save('normalized_Input_37437.npy', data_label)\n",
    "    joblib.dump(scaler, 'scaler.joblib')\n",
    "\n"
   ],
   "metadata": {
    "collapsed": false,
    "ExecuteTime": {
     "start_time": "2024-04-06T12:17:07.567104Z",
     "end_time": "2024-04-06T12:17:07.638235Z"
    }
   }
  },
  {
   "cell_type": "code",
   "execution_count": 22,
   "outputs": [],
   "source": [],
   "metadata": {
    "collapsed": false,
    "ExecuteTime": {
     "start_time": "2024-04-06T12:17:07.611399Z",
     "end_time": "2024-04-06T12:17:07.651191Z"
    }
   }
  }
 ],
 "metadata": {
  "kernelspec": {
   "name": "topodiff",
   "language": "python",
   "display_name": "Python (topodiff)"
  },
  "language_info": {
   "codemirror_mode": {
    "name": "ipython",
    "version": 2
   },
   "file_extension": ".py",
   "mimetype": "text/x-python",
   "name": "python",
   "nbconvert_exporter": "python",
   "pygments_lexer": "ipython2",
   "version": "2.7.6"
  }
 },
 "nbformat": 4,
 "nbformat_minor": 0
}
